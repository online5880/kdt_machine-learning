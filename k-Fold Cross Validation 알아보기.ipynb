{
 "cells": [
  {
   "cell_type": "markdown",
   "metadata": {
    "id": "o-1mU476v18_"
   },
   "source": [
    "# 기계학습 모델 평가를 위한 *k*-Fold Cross Validation 알아보기\n",
    "---\n",
    "기계학습 모델을 만든 뒤, 학습만 끝냈다고 해서 모든 문제가 해결되는게 아닙니다. 얼마나 잘 돌아가는 모델을 만들었는지 평가(Validation)하는 과정이 필요한데요, 이번에는 파이썬(Python)의 기계학습 패키지인 사이킷런(scikit-learn)에서 제공하는 교차 검증(Cross Validation) 기능을 알아보도록 하겠습니다.\n",
    "</p></br></br>\n",
    "\n",
    "## 교차 검증\n",
    "---\n",
    "교차 검증이란, 데이터의 다양한 부분집합을 사용해서 모델을 테스트하는 검증 기술입니다. 기계학습(지도학습에 한해 설명합니다)은 항상 학습 데이터(training set)의 특징에 지나치게 의존도하게 되는 과적합(overfitting) 문제가 발생할 위험이 있는데, 이를 방지하기 위해 테스트 데이터(test set)를 이용해서 검증하는 과정을 포함해야 합니다. 이 때, 오히려 테스트 데이터에 과적합될 위험을 해결하기 위해 교차 검증을 하는 것을 권장합니다. 사이킷런에서는 `sklearn.model_selection` 모듈에서 *k*-Fold Cross Validation 등의 교차 검증을 지원하고 있습니다.\n",
    "</p></br></br>\n",
    "\n",
    "### *k*-Fold Cross Validation\n",
    "---\n",
    "<center><img src=\"https://scikit-learn.org/stable/_images/sphx_glr_plot_cv_indices_006.png\"></br><strong>[그림 1]</strong> <i>k</i>-Fold Cross Validation의 도식화 <a href=\"https://scikit-learn.org/stable/modules/cross_validation.html#k-fold\">(출처)</a></center>\n",
    "</p></br></br>\n",
    "\n",
    "K겹 교차 검증(*k*-Fold Cross Validation)은 확보된 데이터를 ***k***개로 나눈 뒤, **\\(*k*-1\\)**개 집합을 학습 데이터로, 나머지 하나의 집합을 테스트 데이터로 활용하는 방법입니다. 이 때, ***k***등분으로 데이터를 나눌 수 있는 경우의 수는 ***k***가지이므로, 검증 과정은 총 조합에 따라 총 ***k***번 반복되게 됩니다. 이렇게 된다면 단순히 테스트 데이터를 설정했을 때에 비해서 같은 데이터 양으로도 더욱 정확한 교차 검증이 가능하다는 장점이 있지요.\n",
    "</br>\n",
    "사이킷런에서는 `sklearn.model_selection.KFold`로 구현할 수 있으니, 아래 코드를 참조해 의사결정나무 분류기(Decision Tree Classifier) 모델을 *k*-Fold Cross Validation으로 검증해 보도록 하겠습니다.\n",
    "</p></br></br>\n"
   ]
  },
  {
   "cell_type": "code",
   "execution_count": 15,
   "metadata": {},
   "outputs": [
    {
     "name": "stdout",
     "output_type": "stream",
     "text": [
      "1번째 Cross Validation 정확도: 100.00%\n",
      "2번째 Cross Validation 정확도: 100.00%\n",
      "3번째 Cross Validation 정확도: 83.33%\n",
      "4번째 Cross Validation 정확도: 93.33%\n",
      "5번째 Cross Validation 정확도: 73.33%\n",
      "-------------------------------------------\n",
      "Cross Validation 정확도 평균: 90.00%\n"
     ]
    }
   ],
   "source": [
    "# import package\n",
    "from sklearn.tree import DecisionTreeClassifier\n",
    "from sklearn.metrics import accuracy_score\n",
    "from sklearn.model_selection import KFold\n",
    "import numpy as np\n",
    "from sklearn.datasets import load_iris\n",
    "\n",
    "# input data, ML model\n",
    "iris = load_iris()\n",
    "X = iris.data\n",
    "y = iris.target\n",
    "dt_clf = DecisionTreeClassifier(random_state=12345)\n",
    "\n",
    "# 5-fold CV\n",
    "kfold = KFold(n_splits=5, shuffle=False)\n",
    "cv_index = kfold.split(X)\n",
    "\n",
    "cv_accuracy = []\n",
    "ind = 1\n",
    "\n",
    "for train_index, test_index in cv_index:\n",
    "    X_train, X_test = X[train_index], X[test_index]\n",
    "    y_train, y_test = y[train_index], y[test_index]\n",
    "\n",
    "    dt_clf.fit(X_train , y_train)\n",
    "    accuracy = dt_clf.score(X_test, y_test)\n",
    "\n",
    "    print(f'{ind}번째 Cross Validation 정확도: {accuracy:.2%}')\n",
    "    cv_accuracy.append(accuracy)\n",
    "\n",
    "    ind += 1\n",
    "\n",
    "print(f'''-------------------------------------------\n",
    "Cross Validation 정확도 평균: {np.mean(cv_accuracy):.2%}''')"
   ]
  },
  {
   "cell_type": "markdown",
   "metadata": {
    "id": "bQvu-qLpv19A"
   },
   "source": [
    "</p></br></br>\n",
    "\n",
    "### Stratified *k*-Fold Cross Validation\n",
    "---\n",
    "<center><img src=\"https://scikit-learn.org/stable/_images/sphx_glr_plot_cv_indices_009.png\"></br><strong>[그림 2]</strong> Stratified <i>k</i>-Fold Cross Validation의 도식화 <a href=\"https://scikit-learn.org/stable/modules/cross_validation.html#stratified-k-fold\">(출처)</a></center>\n",
    "</p></br></br>\n",
    "\n",
    "층화 K겹 교차 검증(Stratified *k*-Fold Cross Validation)은 확보된 데이터를 ***k***개로 나눈다는 점은 일반적인 *k*-Fold Cross Validation과 동일합니다. 하지만, 각 데이터 집합에서는 클래스의 비율이 모집합과 같이 유지된다는 차이점을 보이는데요, 이 때문에 Stratified *k*-Fold Cross Validation는 특정 클래스의 쏠림으로 인해 검증 결과가 편향되는 문제를 근본적으로 해결할 수 있다는 장점ㅇ 있습니다.\n",
    "</br>\n",
    "사이킷런에서는 `sklearn.model_selection.StratifiedKFold`를 이용해서 Stratified *k*-Fold Cross Validation를 구현할 수 있습니다. 아래 코드를 참조해서, 이전에 만든 Decision Tree Classifier 모델의 *k*-Fold Cross Validation 검증 결과와 Stratified *k*-Fold Cross Validation 검증 결과를 서로 비교해 보도록 하겠습니다.\n",
    "</p></br></br>\n"
   ]
  },
  {
   "cell_type": "code",
   "execution_count": 16,
   "metadata": {},
   "outputs": [
    {
     "name": "stdout",
     "output_type": "stream",
     "text": [
      "\u001b[1m[1번째 3-Fold Cross Validation]\u001b[0m\n",
      "* training set 데이터 분포\n",
      "species\n",
      "1    50\n",
      "2    50\n",
      "Name: count, dtype: int64\n",
      "* test set 데이터 분포\n",
      "species\n",
      "0    50\n",
      "Name: count, dtype: int64\n",
      "\u001b[1m[2번째 3-Fold Cross Validation]\u001b[0m\n",
      "* training set 데이터 분포\n",
      "species\n",
      "0    50\n",
      "2    50\n",
      "Name: count, dtype: int64\n",
      "* test set 데이터 분포\n",
      "species\n",
      "1    50\n",
      "Name: count, dtype: int64\n",
      "\u001b[1m[3번째 3-Fold Cross Validation]\u001b[0m\n",
      "* training set 데이터 분포\n",
      "species\n",
      "0    50\n",
      "1    50\n",
      "Name: count, dtype: int64\n",
      "* test set 데이터 분포\n",
      "species\n",
      "2    50\n",
      "Name: count, dtype: int64\n",
      "--------------------------------------------------\n",
      "\u001b[1m[1번째 Stratified 3-Fold Cross Validation]\u001b[0m\n",
      "* training set 데이터 분포\n",
      "species\n",
      "2    34\n",
      "0    33\n",
      "1    33\n",
      "Name: count, dtype: int64\n",
      "* test set 데이터 분포\n",
      "species\n",
      "0    17\n",
      "1    17\n",
      "2    16\n",
      "Name: count, dtype: int64\n",
      "\u001b[1m[2번째 Stratified 3-Fold Cross Validation]\u001b[0m\n",
      "* training set 데이터 분포\n",
      "species\n",
      "1    34\n",
      "0    33\n",
      "2    33\n",
      "Name: count, dtype: int64\n",
      "* test set 데이터 분포\n",
      "species\n",
      "0    17\n",
      "2    17\n",
      "1    16\n",
      "Name: count, dtype: int64\n",
      "\u001b[1m[3번째 Stratified 3-Fold Cross Validation]\u001b[0m\n",
      "* training set 데이터 분포\n",
      "species\n",
      "0    34\n",
      "1    33\n",
      "2    33\n",
      "Name: count, dtype: int64\n",
      "* test set 데이터 분포\n",
      "species\n",
      "1    17\n",
      "2    17\n",
      "0    16\n",
      "Name: count, dtype: int64\n"
     ]
    }
   ],
   "source": [
    "# import package\n",
    "import pandas as pd\n",
    "from sklearn.model_selection import StratifiedKFold\n",
    "\n",
    "# imput data\n",
    "iris_df = pd.DataFrame(iris.data, columns=iris.feature_names)\n",
    "iris_df['species'] = iris.target\n",
    "\n",
    "# 3-fold CV\n",
    "kfold = KFold(n_splits=3, shuffle=False)\n",
    "\n",
    "ind = 1\n",
    "\n",
    "for train_index, test_index in kfold.split(X):\n",
    "    train_label = iris_df.loc[train_index, 'species']\n",
    "    test_label = iris_df.loc[test_index, 'species']\n",
    "    print(\n",
    "f'''\\033[1m[{ind}번째 3-Fold Cross Validation]\\033[0m\n",
    "* training set 데이터 분포\n",
    "{train_label.value_counts()}\n",
    "* test set 데이터 분포\n",
    "{test_label.value_counts()}'''\n",
    "    )\n",
    "    ind += 1\n",
    "\n",
    "print('-'*50)\n",
    "\n",
    "\n",
    "# Stratified 3-fold CV\n",
    "skfold = StratifiedKFold(n_splits=3)\n",
    "\n",
    "ind = 1\n",
    "\n",
    "for train_index, test_index in skfold.split(X, y):\n",
    "    train_label = iris_df.loc[train_index, 'species']\n",
    "    test_label = iris_df.loc[test_index, 'species']\n",
    "    print(\n",
    "f'''\\033[1m[{ind}번째 Stratified 3-Fold Cross Validation]\\033[0m\n",
    "* training set 데이터 분포\n",
    "{train_label.value_counts()}\n",
    "* test set 데이터 분포\n",
    "{test_label.value_counts()}'''\n",
    "    )\n",
    "    ind += 1"
   ]
  },
  {
   "cell_type": "markdown",
   "metadata": {},
   "source": [
    "</p></br></br>\n",
    "\n",
    "위와 같이, 일반적인 *k*-Fold CV에 비해 Startified *k*-Fold CV는 각 클래스 정보가 일정한 비율로 들어가 있는 것을 확인할 수 있습니다. 위 데이터의 경우 input data를 섞지 않았기 때문에, 데이터의 순서를 섞어서 학습시킨다면 위와 같은 차이는 보이지 않을 수 있습니다. 하지만, 무작위 추출의 특성상 데이터의 쏠림이 일어날 수 있으므로 특별한 문제가 없는 경우에는 Startified *k*-Fold CV를 이용해서 모델 검증을 하는 것을 권장드립니다.\n",
    "</p></br></br>\n"
   ]
  },
  {
   "cell_type": "code",
   "execution_count": 17,
   "metadata": {
    "colab": {
     "base_uri": "https://localhost:8080/"
    },
    "executionInfo": {
     "elapsed": 290,
     "status": "ok",
     "timestamp": 1700463832394,
     "user": {
      "displayName": "박나연",
      "userId": "15219795176792784727"
     },
     "user_tz": -540
    },
    "id": "6x9bzQN4v19B",
    "outputId": "e3748c4c-6cdf-434f-95e8-1c44f1e15055"
   },
   "outputs": [
    {
     "name": "stdout",
     "output_type": "stream",
     "text": [
      "1번째 Cross Validation 정확도: 96.67%\n",
      "2번째 Cross Validation 정확도: 96.67%\n",
      "3번째 Cross Validation 정확도: 90.00%\n",
      "4번째 Cross Validation 정확도: 96.67%\n",
      "5번째 Cross Validation 정확도: 100.00%\n",
      "-------------------------------------------\n",
      "Cross Validation 정확도 평균: 96.00%\n"
     ]
    }
   ],
   "source": [
    "dt_clf = DecisionTreeClassifier(random_state=12345)\n",
    "skfold = StratifiedKFold(n_splits=3)\n",
    "ind=1\n",
    "cv_accuracy=[]\n",
    "\n",
    "# Stratified 5-fold CV\n",
    "skfold = StratifiedKFold(n_splits=5, shuffle=False)\n",
    "cv_index = skfold.split(X, y)\n",
    "\n",
    "cv_accuracy = []\n",
    "ind = 1\n",
    "\n",
    "for train_index, test_index in cv_index:\n",
    "    X_train, X_test = X[train_index], X[test_index]\n",
    "    y_train, y_test = y[train_index], y[test_index]\n",
    "\n",
    "    dt_clf.fit(X_train , y_train)\n",
    "    accuracy = dt_clf.score(X_test, y_test)\n",
    "\n",
    "    print(f'{ind}번째 Cross Validation 정확도: {accuracy:.2%}')\n",
    "    cv_accuracy.append(accuracy)\n",
    "\n",
    "    ind += 1\n",
    "\n",
    "print(f'''-------------------------------------------\n",
    "Cross Validation 정확도 평균: {np.mean(cv_accuracy):.2%}''')"
   ]
  },
  {
   "cell_type": "markdown",
   "metadata": {},
   "source": [
    "</p></br></br>\n",
    "\n",
    "그리고, Startified *k*-Fold CV를 이용해 Decision Tree 모델을 검증한 결과는 위와 같이 나타납니다. 앞서 진행했던 *k*-Fold CV에 비해 정확도가 일정하게 나타나는 것을 확인할 수 있지요."
   ]
  }
 ],
 "metadata": {
  "colab": {
   "provenance": []
  },
  "kernelspec": {
   "display_name": "base",
   "language": "python",
   "name": "python3"
  },
  "language_info": {
   "codemirror_mode": {
    "name": "ipython",
    "version": 3
   },
   "file_extension": ".py",
   "mimetype": "text/x-python",
   "name": "python",
   "nbconvert_exporter": "python",
   "pygments_lexer": "ipython3",
   "version": "3.12.2"
  },
  "widgets": {
   "application/vnd.jupyter.widget-state+json": {
    "state": {},
    "version_major": 2,
    "version_minor": 0
   }
  }
 },
 "nbformat": 4,
 "nbformat_minor": 4
}
